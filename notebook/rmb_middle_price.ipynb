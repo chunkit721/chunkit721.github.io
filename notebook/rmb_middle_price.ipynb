{
 "cells": [
  {
   "cell_type": "code",
   "execution_count": 114,
   "metadata": {
    "collapsed": false
   },
   "outputs": [
    {
     "name": "stdout",
     "output_type": "stream",
     "text": [
      "8\n",
      "The First Outstanding Apprentice of Container Terminal Industry in Hong Kong\n",
      "2016 Earth Hour\n",
      "Chatting with MTL Executives in English\n",
      "Happy Annual Spring Dinners \n",
      "Modern Terminals Appoints Frank Jensen as Chief Commercial Officer\n",
      "Modern Terminals Announces Appointment of Keith Saunders as Managing Director – Hong Kong\n",
      "New Southeast Asia Service Calls at Hong Kong and Taicang\n",
      "Project WeCan Activity – Young Innovators Bazaar 2016\n"
     ]
    }
   ],
   "source": [
    "from lxml import html,cssselect\n",
    "import requests\n",
    "import sys\n",
    "\n",
    "page = requests.get('http://www.modernterminals.com/group/index.php/News/about_news.html')\n",
    "tree = html.fromstring(page.content)\n",
    "\n",
    "#movie_name = tree.xpath('//*[@id=\"content5\"]/div/*/text()')\n",
    "movie_name = tree.cssselect(\"td p a\")\n",
    "#//*[@id=\"content5\"]/div/table/tbody/tr[1]/td[1]/a\n",
    "\n",
    "print len(movie_name)\n",
    "\n",
    "for foo in movie_name:\n",
    "    print foo.text\n",
    "\n",
    "#for foo in range(0,10):\n",
    "#    print movie_name[foo]\n",
    "    #kingdom = kingdom + '<item arg=' + movie_name[foo] + '>' + '<title>' + movie_name[foo] + '<title>' + '<subtitle>' + prices[foo] + '</subtitle>' + '</item>'\n",
    "    "
   ]
  },
  {
   "cell_type": "code",
   "execution_count": null,
   "metadata": {
    "collapsed": true
   },
   "outputs": [],
   "source": []
  }
 ],
 "metadata": {
  "kernelspec": {
   "display_name": "Python 2",
   "language": "python",
   "name": "python2"
  },
  "language_info": {
   "codemirror_mode": {
    "name": "ipython",
    "version": 2
   },
   "file_extension": ".py",
   "mimetype": "text/x-python",
   "name": "python",
   "nbconvert_exporter": "python",
   "pygments_lexer": "ipython2",
   "version": "2.7.11"
  }
 },
 "nbformat": 4,
 "nbformat_minor": 0
}
