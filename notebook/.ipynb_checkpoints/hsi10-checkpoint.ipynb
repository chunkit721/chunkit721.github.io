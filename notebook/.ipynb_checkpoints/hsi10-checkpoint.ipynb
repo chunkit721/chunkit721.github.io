{
 "cells": [
  {
   "cell_type": "code",
   "execution_count": 1,
   "metadata": {
    "collapsed": false
   },
   "outputs": [
    {
     "name": "stdout",
     "output_type": "stream",
     "text": [
      "0700.HK 158.90   2.10(1.30%)Apr 29, 3:59AM EDT\n",
      "0005.HK 51.80   0.40(0.77%)Apr 29, 3:59AM EDT\n",
      "1299.HK 46.70   0.40(0.85%)Apr 29, 3:59AM EDT\n",
      "0941.HK 88.95   2.50(2.73%)Apr 29, 3:59AM EDT\n",
      "0939.HK 4.99   0.08(1.58%)Apr 29, 3:59AM EDT\n",
      "1398.HK 4.21   0.06(1.41%)Apr 29, 3:59AM EDT\n",
      "3988.HK 3.17   0.06(1.86%)Apr 29, 3:59AM EDT\n",
      "0001.HK 93.00   1.20(1.27%)Apr 29, 3:59AM EDT\n",
      "0388.HK 196.30   1.90(0.96%)Apr 29, 3:59AM EDT\n",
      "2318.HK 36.65   0.35(0.95%)Apr 29, 3:59AM EDT\n"
     ]
    }
   ],
   "source": [
    "# HSI members top 10 by percentage\n",
    "\n",
    "from lxml import html\n",
    "import requests\n",
    "import sys\n",
    "\n",
    "stocks = [\"0700.HK\",\"0005.HK\",\"1299.HK\",\"0941.HK\",\"0939.HK\",\"1398.HK\",\"3988.HK\",\"0001.HK\",\"0388.HK\",\"2318.HK\"]\n",
    "\n",
    "def get_quote(name):\n",
    "    \n",
    "    page = requests.get('http://finance.yahoo.com/q?s='+ name )\n",
    "    tree = html.fromstring(page.content)\n",
    "\n",
    "    path = '//*[@id=\"yfi_rt_quote_summary\"]/div[2]/div/span/span/text()'\n",
    "\n",
    "    quote = tree.xpath(path)\n",
    "    \n",
    "    string = \"\"\n",
    "    \n",
    "    \n",
    "    for foo in quote:\n",
    "        string = string + foo\n",
    "\n",
    "    print name + \" \" + string\n",
    "    \n",
    "for name in stocks:\n",
    "    get_quote(name)\n"
   ]
  },
  {
   "cell_type": "code",
   "execution_count": null,
   "metadata": {
    "collapsed": true
   },
   "outputs": [],
   "source": []
  }
 ],
 "metadata": {
  "kernelspec": {
   "display_name": "Python 2",
   "language": "python",
   "name": "python2"
  },
  "language_info": {
   "codemirror_mode": {
    "name": "ipython",
    "version": 2
   },
   "file_extension": ".py",
   "mimetype": "text/x-python",
   "name": "python",
   "nbconvert_exporter": "python",
   "pygments_lexer": "ipython2",
   "version": "2.7.11"
  }
 },
 "nbformat": 4,
 "nbformat_minor": 0
}
